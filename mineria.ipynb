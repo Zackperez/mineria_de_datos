{
  "cells": [
    {
      "cell_type": "markdown",
      "metadata": {
        "id": "SMW_aH4Ya5F1"
      },
      "source": [
        "# Minería de datos"
      ]
    },
    {
      "cell_type": "markdown",
      "metadata": {
        "id": "flVJxyYka5F6"
      },
      "source": [
        "**Integrantes:**\n",
        "* Jean C. Trujillo P.\n",
        "* Juan Cervantes"
      ]
    },
    {
      "cell_type": "markdown",
      "metadata": {
        "id": "MU29gKnYa5F7"
      },
      "source": [
        "# Información de la data\n",
        "\n",
        "### Titulo:  _Periodo 2017-enero hasta 2017-diciembre. Doce (12) ciclos._\n",
        "\n",
        "### Descripción (proporcionada por la página): \n",
        "> Las regalías son la contraprestación económica a favor del Estado por la explotación de recursos no renovables, como petróleo y gas, que se le otorgan a departamentos y municipios en cuyo territorio se adelantan explotaciones, y a los puertos por donde se transportan dichos recursos. Se incluyen los datos de producción de hidrocarburos y regalías, clasificados por departamento, municipio, contrato y campo durante el año 2017.\n",
        "\n",
        "Link de la data: https://www.datos.gov.co/Minas-y-Energ-a/Producci-n-y-Regal-as-por-Campo-2017/adet-54dq"
      ]
    },
    {
      "cell_type": "markdown",
      "metadata": {
        "id": "cSuPcEtta5F8"
      },
      "source": [
        "### Resumen de la data: \n",
        "Básicamente, este párrafo habla sobre las regalías y su relación con la explotación de recursos no renovables como el petróleo y el gas.\n",
        "\n",
        "Las regalías son una contraprestación económica que el Estado recibe a cambio de permitir que empresas exploten los recursos naturales que se encuentran en su territorio. En este caso, específicamente, se refiere al petróleo y al gas. Los departamentos y municipios donde se llevan a cabo estas explotaciones también reciben una parte de las regalías, así como los puertos por los que se transportan estos recursos."
      ]
    },
    {
      "cell_type": "markdown",
      "metadata": {
        "id": "AQKQiZOya5F9"
      },
      "source": [
        "Con esa información, nos enfocaremos específicamente en estos datos:\n",
        "* Departamentos.\n",
        "* Municipios.\n",
        "* Tipo de contrato.\n",
        "* Regalías.\n",
        "* Porcentaje de Regalias.\n",
        "* Precio Hidrocarburo USD."
      ]
    },
    {
      "cell_type": "code",
      "execution_count": null,
      "metadata": {
        "id": "SYykerdMa5F-"
      },
      "outputs": [],
      "source": [
        "import pandas as pd\n",
        "import numpy as np\n",
        "from matplotlib import pyplot as plt"
      ]
    },
    {
      "cell_type": "markdown",
      "metadata": {
        "id": "2WASnTPha5GA"
      },
      "source": [
        "# Carga del archivo CSV"
      ]
    },
    {
      "cell_type": "code",
      "execution_count": null,
      "metadata": {
        "id": "GSfGvSREa5GB"
      },
      "outputs": [],
      "source": [
        "data = pd.read_csv('Produccion_Regalias_por_Campo_2017.csv')"
      ]
    },
    {
      "cell_type": "markdown",
      "metadata": {
        "id": "WWcvNFOPa5GB"
      },
      "source": [
        "# Información de los datos"
      ]
    },
    {
      "cell_type": "markdown",
      "metadata": {
        "id": "JdCxFNwCa5GC"
      },
      "source": [
        "Visualizamos los datos de la data, con el método .info() donde se mostrará cada columna, filas, cantidad de datos, sí hay datos nulos y el tipo de dato de esa fila en específico"
      ]
    },
    {
      "cell_type": "code",
      "execution_count": null,
      "metadata": {
        "id": "re8J63XIa5GC",
        "outputId": "8cc5d7fb-18ab-451e-959a-58d45af599b0"
      },
      "outputs": [
        {
          "name": "stdout",
          "output_type": "stream",
          "text": [
            "<class 'pandas.core.frame.DataFrame'>\n",
            "RangeIndex: 16868 entries, 0 to 16867\n",
            "Data columns (total 16 columns):\n",
            " #   Column                   Non-Null Count  Dtype  \n",
            "---  ------                   --------------  -----  \n",
            " 0   ITEM                     16868 non-null  int64  \n",
            " 1   Departamento             16868 non-null  object \n",
            " 2   Municipio                16868 non-null  object \n",
            " 3   Año                      16868 non-null  int64  \n",
            " 4   Mes                      16868 non-null  int64  \n",
            " 5   Contrato                 16868 non-null  object \n",
            " 6   Campo                    16868 non-null  object \n",
            " 7   Tipo Prod                16868 non-null  object \n",
            " 8   Tipo Hidrocarburo        16868 non-null  object \n",
            " 9   Precio Hidrocarburo USD  15937 non-null  float64\n",
            " 10  Porc Regalia             16868 non-null  float64\n",
            " 11  Prod. Gravable Bls/Kpc   16868 non-null  float64\n",
            " 12  Volumen Regalia Bls/Kpc  16868 non-null  float64\n",
            " 13  Regalias COP             16868 non-null  float64\n",
            " 14  Trm Promedio             16868 non-null  float64\n",
            " 15  Regimen Reg              16868 non-null  object \n",
            "dtypes: float64(6), int64(3), object(7)\n",
            "memory usage: 2.1+ MB\n"
          ]
        }
      ],
      "source": [
        "data.info()"
      ]
    },
    {
      "cell_type": "markdown",
      "metadata": {
        "id": "8kmU0aVOa5GE"
      },
      "source": [
        "Se tiene un total de 16 columnas teniendo los siguientes tipo de datos:\n",
        "* Float64 - 6 columnas\n",
        "* int64 - 3 columnas\n",
        "* object - 7 columnas\n",
        "\n",
        "Teniendo un total de **16.868 filas**\n",
        "\n",
        "En otras palabras, tenemos 7 columnas de tipo texto, y 9 columnas de tipo numérico en donde nos **enfocaremos** especificamente en las siguientes columnas:\n",
        "* Departamentos. **(cualitativo - categórico)**\n",
        "* Municipios. **(cualitativo - categórico)**\n",
        "* Tipo de contrato. **(cualitativo - categórico)**\n",
        "* Regalías. **(cuantitativo - discretas)**\n",
        "* Porcentaje de Regalias. **(cuantitativo - discretas)**\n",
        "* Precio Hidrocarburo USD. **(cuantitativo - discretas)**\n",
        "\n",
        "#### ¿Por qué enfocarnos en estas columnas?\n",
        "\n",
        "La importancia de esta data es **localizar** los departamentos junto con sus municipios, las **regalías que se obtuvo** luego de que la empresa encargada, explotara los recursos siguiendo el tipo de contrato que se le haya asignado."
      ]
    },
    {
      "cell_type": "markdown",
      "metadata": {
        "id": "9Oa0qEO4a5GE"
      },
      "source": [
        "## Datos nulos"
      ]
    },
    {
      "cell_type": "markdown",
      "metadata": {
        "id": "T0WuKs9-a5GE"
      },
      "source": [
        "Antes de empezar, se puede notar (en la tabla presentada anteriormente) que **faltan datos** en la columna de **\"Precio Hidrocarburo USD\"** y se puede comprobar de la siguiente manera:"
      ]
    },
    {
      "cell_type": "code",
      "execution_count": null,
      "metadata": {
        "id": "8rvVwvjna5GF",
        "outputId": "8e5ad87c-6ce7-462d-c0b1-6e8031a938a9"
      },
      "outputs": [
        {
          "data": {
            "text/plain": [
              "ITEM                         0\n",
              "Departamento                 0\n",
              "Municipio                    0\n",
              "Año                          0\n",
              "Mes                          0\n",
              "Contrato                     0\n",
              "Campo                        0\n",
              "Tipo Prod                    0\n",
              "Tipo Hidrocarburo            0\n",
              "Precio Hidrocarburo USD    931\n",
              "Porc Regalia                 0\n",
              "Prod. Gravable Bls/Kpc       0\n",
              "Volumen Regalia Bls/Kpc      0\n",
              "Regalias COP                 0\n",
              "Trm Promedio                 0\n",
              "Regimen Reg                  0\n",
              "dtype: int64"
            ]
          },
          "execution_count": 333,
          "metadata": {},
          "output_type": "execute_result"
        }
      ],
      "source": [
        "data.isnull().sum()"
      ]
    },
    {
      "cell_type": "markdown",
      "metadata": {
        "id": "j0ohTCHxa5GF"
      },
      "source": [
        "Existen **931 datos faltantes** en la columna **\"Precio Hidrocarburo USD\"**"
      ]
    },
    {
      "cell_type": "markdown",
      "metadata": {
        "id": "mcQwtIJGa5GG"
      },
      "source": [
        "# Primeros 5 registros"
      ]
    },
    {
      "cell_type": "markdown",
      "metadata": {
        "id": "5MYJgqMha5GG"
      },
      "source": [
        "Para visualizar los primeros registros de la data, se usa el método **.head()** (que por defecto, muestra 5 registros. Se puede modificar para mostrar más de 5 si se escribe el valor como parámetro)"
      ]
    },
    {
      "cell_type": "code",
      "execution_count": null,
      "metadata": {
        "id": "6nzjTSNja5GG",
        "outputId": "c789a7ee-1a16-4897-b44d-43ef6ed6c49e"
      },
      "outputs": [
        {
          "data": {
            "text/html": [
              "<div>\n",
              "<style scoped>\n",
              "    .dataframe tbody tr th:only-of-type {\n",
              "        vertical-align: middle;\n",
              "    }\n",
              "\n",
              "    .dataframe tbody tr th {\n",
              "        vertical-align: top;\n",
              "    }\n",
              "\n",
              "    .dataframe thead th {\n",
              "        text-align: right;\n",
              "    }\n",
              "</style>\n",
              "<table border=\"1\" class=\"dataframe\">\n",
              "  <thead>\n",
              "    <tr style=\"text-align: right;\">\n",
              "      <th></th>\n",
              "      <th>ITEM</th>\n",
              "      <th>Departamento</th>\n",
              "      <th>Municipio</th>\n",
              "      <th>Año</th>\n",
              "      <th>Mes</th>\n",
              "      <th>Contrato</th>\n",
              "      <th>Campo</th>\n",
              "      <th>Tipo Prod</th>\n",
              "      <th>Tipo Hidrocarburo</th>\n",
              "      <th>Precio Hidrocarburo USD</th>\n",
              "      <th>Porc Regalia</th>\n",
              "      <th>Prod. Gravable Bls/Kpc</th>\n",
              "      <th>Volumen Regalia Bls/Kpc</th>\n",
              "      <th>Regalias COP</th>\n",
              "      <th>Trm Promedio</th>\n",
              "      <th>Regimen Reg</th>\n",
              "    </tr>\n",
              "  </thead>\n",
              "  <tbody>\n",
              "    <tr>\n",
              "      <th>0</th>\n",
              "      <td>323</td>\n",
              "      <td>ARAUCA</td>\n",
              "      <td>ARAUCA</td>\n",
              "      <td>2017</td>\n",
              "      <td>1</td>\n",
              "      <td>CRAVO NORTE</td>\n",
              "      <td>REDONDO</td>\n",
              "      <td>QB</td>\n",
              "      <td>G</td>\n",
              "      <td>6.05</td>\n",
              "      <td>0.20</td>\n",
              "      <td>3.0</td>\n",
              "      <td>0.60</td>\n",
              "      <td>1.067775e+04</td>\n",
              "      <td>2941.4</td>\n",
              "      <td>Ley 141 20%</td>\n",
              "    </tr>\n",
              "    <tr>\n",
              "      <th>1</th>\n",
              "      <td>1</td>\n",
              "      <td>ANTIOQUIA</td>\n",
              "      <td>PUERTO NARE</td>\n",
              "      <td>2017</td>\n",
              "      <td>1</td>\n",
              "      <td>CONTRATO DE COLABORACIÓN EMPRESARIAL CAMPO ÁRE...</td>\n",
              "      <td>AREA TECA-COCORNA</td>\n",
              "      <td>I</td>\n",
              "      <td>O</td>\n",
              "      <td>37.63</td>\n",
              "      <td>0.06</td>\n",
              "      <td>0.0</td>\n",
              "      <td>0.00</td>\n",
              "      <td>0.000000e+00</td>\n",
              "      <td>2941.4</td>\n",
              "      <td>Ley 756 8% variable</td>\n",
              "    </tr>\n",
              "    <tr>\n",
              "      <th>2</th>\n",
              "      <td>2</td>\n",
              "      <td>ANTIOQUIA</td>\n",
              "      <td>PUERTO NARE</td>\n",
              "      <td>2017</td>\n",
              "      <td>1</td>\n",
              "      <td>NARE ASOCIACION</td>\n",
              "      <td>NARE</td>\n",
              "      <td>B</td>\n",
              "      <td>G</td>\n",
              "      <td>3.06</td>\n",
              "      <td>0.20</td>\n",
              "      <td>0.0</td>\n",
              "      <td>0.00</td>\n",
              "      <td>0.000000e+00</td>\n",
              "      <td>2941.4</td>\n",
              "      <td>Ley 141 20%</td>\n",
              "    </tr>\n",
              "    <tr>\n",
              "      <th>3</th>\n",
              "      <td>3</td>\n",
              "      <td>ANTIOQUIA</td>\n",
              "      <td>PUERTO NARE</td>\n",
              "      <td>2017</td>\n",
              "      <td>1</td>\n",
              "      <td>NARE ASOCIACION</td>\n",
              "      <td>NARE</td>\n",
              "      <td>B</td>\n",
              "      <td>O</td>\n",
              "      <td>30.32</td>\n",
              "      <td>0.20</td>\n",
              "      <td>8424.0</td>\n",
              "      <td>1684.80</td>\n",
              "      <td>1.502693e+08</td>\n",
              "      <td>2941.4</td>\n",
              "      <td>Ley 141 20%</td>\n",
              "    </tr>\n",
              "    <tr>\n",
              "      <th>4</th>\n",
              "      <td>4</td>\n",
              "      <td>ANTIOQUIA</td>\n",
              "      <td>PUERTO NARE</td>\n",
              "      <td>2017</td>\n",
              "      <td>1</td>\n",
              "      <td>NARE ASOCIACION</td>\n",
              "      <td>UNDERRIVER</td>\n",
              "      <td>P</td>\n",
              "      <td>O</td>\n",
              "      <td>28.52</td>\n",
              "      <td>0.06</td>\n",
              "      <td>29006.0</td>\n",
              "      <td>1740.36</td>\n",
              "      <td>1.459930e+08</td>\n",
              "      <td>2941.4</td>\n",
              "      <td>Ley 756 8% variable</td>\n",
              "    </tr>\n",
              "  </tbody>\n",
              "</table>\n",
              "</div>"
            ],
            "text/plain": [
              "   ITEM Departamento    Municipio   Año  Mes  \\\n",
              "0   323       ARAUCA       ARAUCA  2017    1   \n",
              "1     1    ANTIOQUIA  PUERTO NARE  2017    1   \n",
              "2     2    ANTIOQUIA  PUERTO NARE  2017    1   \n",
              "3     3    ANTIOQUIA  PUERTO NARE  2017    1   \n",
              "4     4    ANTIOQUIA  PUERTO NARE  2017    1   \n",
              "\n",
              "                                            Contrato              Campo  \\\n",
              "0                                        CRAVO NORTE            REDONDO   \n",
              "1  CONTRATO DE COLABORACIÓN EMPRESARIAL CAMPO ÁRE...  AREA TECA-COCORNA   \n",
              "2                                    NARE ASOCIACION               NARE   \n",
              "3                                    NARE ASOCIACION               NARE   \n",
              "4                                    NARE ASOCIACION         UNDERRIVER   \n",
              "\n",
              "  Tipo Prod Tipo Hidrocarburo  Precio Hidrocarburo USD  Porc Regalia  \\\n",
              "0        QB                 G                     6.05          0.20   \n",
              "1         I                 O                    37.63          0.06   \n",
              "2         B                 G                     3.06          0.20   \n",
              "3         B                 O                    30.32          0.20   \n",
              "4         P                 O                    28.52          0.06   \n",
              "\n",
              "   Prod. Gravable Bls/Kpc  Volumen Regalia Bls/Kpc  Regalias COP  \\\n",
              "0                     3.0                     0.60  1.067775e+04   \n",
              "1                     0.0                     0.00  0.000000e+00   \n",
              "2                     0.0                     0.00  0.000000e+00   \n",
              "3                  8424.0                  1684.80  1.502693e+08   \n",
              "4                 29006.0                  1740.36  1.459930e+08   \n",
              "\n",
              "   Trm Promedio          Regimen Reg  \n",
              "0        2941.4          Ley 141 20%  \n",
              "1        2941.4  Ley 756 8% variable  \n",
              "2        2941.4          Ley 141 20%  \n",
              "3        2941.4          Ley 141 20%  \n",
              "4        2941.4  Ley 756 8% variable  "
            ]
          },
          "execution_count": 334,
          "metadata": {},
          "output_type": "execute_result"
        }
      ],
      "source": [
        "data.head()"
      ]
    },
    {
      "cell_type": "markdown",
      "metadata": {
        "id": "yjF18oPga5GH"
      },
      "source": [
        "# Grupo de filas"
      ]
    },
    {
      "cell_type": "markdown",
      "metadata": {
        "id": "hGLrEz0ua5GH"
      },
      "source": [
        "Usando **data.iloc**, podemos visualizar un rango de filas de la data."
      ]
    },
    {
      "cell_type": "code",
      "execution_count": null,
      "metadata": {
        "id": "K2IPKy8la5GI",
        "outputId": "7368f410-b272-4912-dd72-2da23b5b3c8d"
      },
      "outputs": [
        {
          "data": {
            "text/html": [
              "<div>\n",
              "<style scoped>\n",
              "    .dataframe tbody tr th:only-of-type {\n",
              "        vertical-align: middle;\n",
              "    }\n",
              "\n",
              "    .dataframe tbody tr th {\n",
              "        vertical-align: top;\n",
              "    }\n",
              "\n",
              "    .dataframe thead th {\n",
              "        text-align: right;\n",
              "    }\n",
              "</style>\n",
              "<table border=\"1\" class=\"dataframe\">\n",
              "  <thead>\n",
              "    <tr style=\"text-align: right;\">\n",
              "      <th></th>\n",
              "      <th>ITEM</th>\n",
              "      <th>Departamento</th>\n",
              "      <th>Municipio</th>\n",
              "      <th>Año</th>\n",
              "      <th>Mes</th>\n",
              "      <th>Contrato</th>\n",
              "      <th>Campo</th>\n",
              "      <th>Tipo Prod</th>\n",
              "      <th>Tipo Hidrocarburo</th>\n",
              "      <th>Precio Hidrocarburo USD</th>\n",
              "      <th>Porc Regalia</th>\n",
              "      <th>Prod. Gravable Bls/Kpc</th>\n",
              "      <th>Volumen Regalia Bls/Kpc</th>\n",
              "      <th>Regalias COP</th>\n",
              "      <th>Trm Promedio</th>\n",
              "      <th>Regimen Reg</th>\n",
              "    </tr>\n",
              "  </thead>\n",
              "  <tbody>\n",
              "    <tr>\n",
              "      <th>30</th>\n",
              "      <td>30</td>\n",
              "      <td>ANTIOQUIA</td>\n",
              "      <td>PUERTO NARE</td>\n",
              "      <td>2017</td>\n",
              "      <td>2</td>\n",
              "      <td>OPERACION-DIRECTA ECOPETROL</td>\n",
              "      <td>AREA TECA-COCORNA</td>\n",
              "      <td>I</td>\n",
              "      <td>O</td>\n",
              "      <td>39.70</td>\n",
              "      <td>0.06</td>\n",
              "      <td>14850.0</td>\n",
              "      <td>891.00</td>\n",
              "      <td>1.018492e+08</td>\n",
              "      <td>2879.57</td>\n",
              "      <td>Ley 756 8% variable</td>\n",
              "    </tr>\n",
              "    <tr>\n",
              "      <th>31</th>\n",
              "      <td>31</td>\n",
              "      <td>ANTIOQUIA</td>\n",
              "      <td>PUERTO NARE</td>\n",
              "      <td>2017</td>\n",
              "      <td>3</td>\n",
              "      <td>CONTRATO DE COLABORACIÓN EMPRESARIAL CAMPO ÁRE...</td>\n",
              "      <td>AREA TECA-COCORNA</td>\n",
              "      <td>I</td>\n",
              "      <td>O</td>\n",
              "      <td>37.59</td>\n",
              "      <td>0.06</td>\n",
              "      <td>0.0</td>\n",
              "      <td>0.00</td>\n",
              "      <td>0.000000e+00</td>\n",
              "      <td>2942.29</td>\n",
              "      <td>Ley 756 8% variable</td>\n",
              "    </tr>\n",
              "    <tr>\n",
              "      <th>32</th>\n",
              "      <td>32</td>\n",
              "      <td>ANTIOQUIA</td>\n",
              "      <td>PUERTO NARE</td>\n",
              "      <td>2017</td>\n",
              "      <td>3</td>\n",
              "      <td>NARE ASOCIACION</td>\n",
              "      <td>NARE</td>\n",
              "      <td>B</td>\n",
              "      <td>O</td>\n",
              "      <td>30.33</td>\n",
              "      <td>0.20</td>\n",
              "      <td>7840.0</td>\n",
              "      <td>1568.00</td>\n",
              "      <td>1.399181e+08</td>\n",
              "      <td>2942.29</td>\n",
              "      <td>Ley 141 20%</td>\n",
              "    </tr>\n",
              "    <tr>\n",
              "      <th>33</th>\n",
              "      <td>33</td>\n",
              "      <td>ANTIOQUIA</td>\n",
              "      <td>PUERTO NARE</td>\n",
              "      <td>2017</td>\n",
              "      <td>3</td>\n",
              "      <td>NARE ASOCIACION</td>\n",
              "      <td>NARE</td>\n",
              "      <td>B</td>\n",
              "      <td>G</td>\n",
              "      <td>3.03</td>\n",
              "      <td>0.20</td>\n",
              "      <td>0.0</td>\n",
              "      <td>0.00</td>\n",
              "      <td>0.000000e+00</td>\n",
              "      <td>2942.29</td>\n",
              "      <td>Ley 141 20%</td>\n",
              "    </tr>\n",
              "    <tr>\n",
              "      <th>34</th>\n",
              "      <td>34</td>\n",
              "      <td>ANTIOQUIA</td>\n",
              "      <td>PUERTO NARE</td>\n",
              "      <td>2017</td>\n",
              "      <td>3</td>\n",
              "      <td>NARE ASOCIACION</td>\n",
              "      <td>UNDERRIVER</td>\n",
              "      <td>P</td>\n",
              "      <td>O</td>\n",
              "      <td>28.70</td>\n",
              "      <td>0.06</td>\n",
              "      <td>27287.0</td>\n",
              "      <td>1637.22</td>\n",
              "      <td>1.382361e+08</td>\n",
              "      <td>2942.29</td>\n",
              "      <td>Ley 756 8% variable</td>\n",
              "    </tr>\n",
              "  </tbody>\n",
              "</table>\n",
              "</div>"
            ],
            "text/plain": [
              "    ITEM Departamento    Municipio   Año  Mes  \\\n",
              "30    30    ANTIOQUIA  PUERTO NARE  2017    2   \n",
              "31    31    ANTIOQUIA  PUERTO NARE  2017    3   \n",
              "32    32    ANTIOQUIA  PUERTO NARE  2017    3   \n",
              "33    33    ANTIOQUIA  PUERTO NARE  2017    3   \n",
              "34    34    ANTIOQUIA  PUERTO NARE  2017    3   \n",
              "\n",
              "                                             Contrato              Campo  \\\n",
              "30                        OPERACION-DIRECTA ECOPETROL  AREA TECA-COCORNA   \n",
              "31  CONTRATO DE COLABORACIÓN EMPRESARIAL CAMPO ÁRE...  AREA TECA-COCORNA   \n",
              "32                                    NARE ASOCIACION               NARE   \n",
              "33                                    NARE ASOCIACION               NARE   \n",
              "34                                    NARE ASOCIACION         UNDERRIVER   \n",
              "\n",
              "   Tipo Prod Tipo Hidrocarburo  Precio Hidrocarburo USD  Porc Regalia  \\\n",
              "30         I                 O                    39.70          0.06   \n",
              "31         I                 O                    37.59          0.06   \n",
              "32         B                 O                    30.33          0.20   \n",
              "33         B                 G                     3.03          0.20   \n",
              "34         P                 O                    28.70          0.06   \n",
              "\n",
              "    Prod. Gravable Bls/Kpc  Volumen Regalia Bls/Kpc  Regalias COP  \\\n",
              "30                 14850.0                   891.00  1.018492e+08   \n",
              "31                     0.0                     0.00  0.000000e+00   \n",
              "32                  7840.0                  1568.00  1.399181e+08   \n",
              "33                     0.0                     0.00  0.000000e+00   \n",
              "34                 27287.0                  1637.22  1.382361e+08   \n",
              "\n",
              "    Trm Promedio          Regimen Reg  \n",
              "30       2879.57  Ley 756 8% variable  \n",
              "31       2942.29  Ley 756 8% variable  \n",
              "32       2942.29          Ley 141 20%  \n",
              "33       2942.29          Ley 141 20%  \n",
              "34       2942.29  Ley 756 8% variable  "
            ]
          },
          "execution_count": 335,
          "metadata": {},
          "output_type": "execute_result"
        }
      ],
      "source": [
        "data.iloc[30:35]"
      ]
    },
    {
      "cell_type": "markdown",
      "metadata": {
        "id": "A5WA0XqXa5GI"
      },
      "source": [
        "# Grupo de columnas"
      ]
    },
    {
      "cell_type": "markdown",
      "metadata": {
        "id": "ppsATS7Ma5GI"
      },
      "source": [
        "Para seleccionar un grupo de columnas, se hace usando doble corchete."
      ]
    },
    {
      "cell_type": "code",
      "execution_count": null,
      "metadata": {
        "id": "KqPUl7y7a5GJ",
        "outputId": "0980c8f2-a3bc-480d-ce0d-b8c0a552bc7c"
      },
      "outputs": [
        {
          "data": {
            "text/html": [
              "<div>\n",
              "<style scoped>\n",
              "    .dataframe tbody tr th:only-of-type {\n",
              "        vertical-align: middle;\n",
              "    }\n",
              "\n",
              "    .dataframe tbody tr th {\n",
              "        vertical-align: top;\n",
              "    }\n",
              "\n",
              "    .dataframe thead th {\n",
              "        text-align: right;\n",
              "    }\n",
              "</style>\n",
              "<table border=\"1\" class=\"dataframe\">\n",
              "  <thead>\n",
              "    <tr style=\"text-align: right;\">\n",
              "      <th></th>\n",
              "      <th>Departamento</th>\n",
              "      <th>Municipio</th>\n",
              "      <th>Contrato</th>\n",
              "    </tr>\n",
              "  </thead>\n",
              "  <tbody>\n",
              "    <tr>\n",
              "      <th>0</th>\n",
              "      <td>ARAUCA</td>\n",
              "      <td>ARAUCA</td>\n",
              "      <td>CRAVO NORTE</td>\n",
              "    </tr>\n",
              "    <tr>\n",
              "      <th>1</th>\n",
              "      <td>ANTIOQUIA</td>\n",
              "      <td>PUERTO NARE</td>\n",
              "      <td>CONTRATO DE COLABORACIÓN EMPRESARIAL CAMPO ÁRE...</td>\n",
              "    </tr>\n",
              "    <tr>\n",
              "      <th>2</th>\n",
              "      <td>ANTIOQUIA</td>\n",
              "      <td>PUERTO NARE</td>\n",
              "      <td>NARE ASOCIACION</td>\n",
              "    </tr>\n",
              "    <tr>\n",
              "      <th>3</th>\n",
              "      <td>ANTIOQUIA</td>\n",
              "      <td>PUERTO NARE</td>\n",
              "      <td>NARE ASOCIACION</td>\n",
              "    </tr>\n",
              "    <tr>\n",
              "      <th>4</th>\n",
              "      <td>ANTIOQUIA</td>\n",
              "      <td>PUERTO NARE</td>\n",
              "      <td>NARE ASOCIACION</td>\n",
              "    </tr>\n",
              "    <tr>\n",
              "      <th>...</th>\n",
              "      <td>...</td>\n",
              "      <td>...</td>\n",
              "      <td>...</td>\n",
              "    </tr>\n",
              "    <tr>\n",
              "      <th>16863</th>\n",
              "      <td>TOLIMA</td>\n",
              "      <td>SAN LUIS</td>\n",
              "      <td>CPI ORTEGA OTROSI 1</td>\n",
              "    </tr>\n",
              "    <tr>\n",
              "      <th>16864</th>\n",
              "      <td>VICHADA</td>\n",
              "      <td>SANTA ROSALIA</td>\n",
              "      <td>LAS GARZAS</td>\n",
              "    </tr>\n",
              "    <tr>\n",
              "      <th>16865</th>\n",
              "      <td>VICHADA</td>\n",
              "      <td>SANTA ROSALIA</td>\n",
              "      <td>LAS GARZAS</td>\n",
              "    </tr>\n",
              "    <tr>\n",
              "      <th>16866</th>\n",
              "      <td>VICHADA</td>\n",
              "      <td>SANTA ROSALIA</td>\n",
              "      <td>LAS GARZAS</td>\n",
              "    </tr>\n",
              "    <tr>\n",
              "      <th>16867</th>\n",
              "      <td>VICHADA</td>\n",
              "      <td>SANTA ROSALIA</td>\n",
              "      <td>LAS GARZAS</td>\n",
              "    </tr>\n",
              "  </tbody>\n",
              "</table>\n",
              "<p>16868 rows × 3 columns</p>\n",
              "</div>"
            ],
            "text/plain": [
              "      Departamento      Municipio  \\\n",
              "0           ARAUCA         ARAUCA   \n",
              "1        ANTIOQUIA    PUERTO NARE   \n",
              "2        ANTIOQUIA    PUERTO NARE   \n",
              "3        ANTIOQUIA    PUERTO NARE   \n",
              "4        ANTIOQUIA    PUERTO NARE   \n",
              "...            ...            ...   \n",
              "16863       TOLIMA       SAN LUIS   \n",
              "16864      VICHADA  SANTA ROSALIA   \n",
              "16865      VICHADA  SANTA ROSALIA   \n",
              "16866      VICHADA  SANTA ROSALIA   \n",
              "16867      VICHADA  SANTA ROSALIA   \n",
              "\n",
              "                                                Contrato  \n",
              "0                                            CRAVO NORTE  \n",
              "1      CONTRATO DE COLABORACIÓN EMPRESARIAL CAMPO ÁRE...  \n",
              "2                                        NARE ASOCIACION  \n",
              "3                                        NARE ASOCIACION  \n",
              "4                                        NARE ASOCIACION  \n",
              "...                                                  ...  \n",
              "16863                                CPI ORTEGA OTROSI 1  \n",
              "16864                                         LAS GARZAS  \n",
              "16865                                         LAS GARZAS  \n",
              "16866                                         LAS GARZAS  \n",
              "16867                                         LAS GARZAS  \n",
              "\n",
              "[16868 rows x 3 columns]"
            ]
          },
          "execution_count": 336,
          "metadata": {},
          "output_type": "execute_result"
        }
      ],
      "source": [
        "data[['Departamento', 'Municipio', 'Contrato']]"
      ]
    },
    {
      "cell_type": "markdown",
      "metadata": {
        "id": "3PITzlfNa5GJ"
      },
      "source": [
        "# Consulta de tres campos cuantitativos"
      ]
    },
    {
      "cell_type": "markdown",
      "metadata": {
        "id": "vUVBlCXOa5GJ"
      },
      "source": [
        "## Muestra general"
      ]
    },
    {
      "cell_type": "markdown",
      "metadata": {
        "id": "zZalMzV9a5GJ"
      },
      "source": [
        "Acá podemos ver una vista estadística general de la data"
      ]
    },
    {
      "cell_type": "code",
      "execution_count": null,
      "metadata": {
        "id": "5NiQCcvPa5GK",
        "outputId": "ab74ec2a-e012-4738-b6bf-456564455aac"
      },
      "outputs": [
        {
          "data": {
            "text/html": [
              "<div>\n",
              "<style scoped>\n",
              "    .dataframe tbody tr th:only-of-type {\n",
              "        vertical-align: middle;\n",
              "    }\n",
              "\n",
              "    .dataframe tbody tr th {\n",
              "        vertical-align: top;\n",
              "    }\n",
              "\n",
              "    .dataframe thead th {\n",
              "        text-align: right;\n",
              "    }\n",
              "</style>\n",
              "<table border=\"1\" class=\"dataframe\">\n",
              "  <thead>\n",
              "    <tr style=\"text-align: right;\">\n",
              "      <th></th>\n",
              "      <th>ITEM</th>\n",
              "      <th>Año</th>\n",
              "      <th>Mes</th>\n",
              "      <th>Precio Hidrocarburo USD</th>\n",
              "      <th>Porc Regalia</th>\n",
              "      <th>Prod. Gravable Bls/Kpc</th>\n",
              "      <th>Volumen Regalia Bls/Kpc</th>\n",
              "      <th>Regalias COP</th>\n",
              "      <th>Trm Promedio</th>\n",
              "    </tr>\n",
              "  </thead>\n",
              "  <tbody>\n",
              "    <tr>\n",
              "      <th>count</th>\n",
              "      <td>16868.000000</td>\n",
              "      <td>16868.0</td>\n",
              "      <td>16868.000000</td>\n",
              "      <td>15937.000000</td>\n",
              "      <td>16868.000000</td>\n",
              "      <td>1.686800e+04</td>\n",
              "      <td>16868.000000</td>\n",
              "      <td>1.686800e+04</td>\n",
              "      <td>16868.000000</td>\n",
              "    </tr>\n",
              "    <tr>\n",
              "      <th>mean</th>\n",
              "      <td>8434.500000</td>\n",
              "      <td>2017.0</td>\n",
              "      <td>5.530828</td>\n",
              "      <td>23.467621</td>\n",
              "      <td>0.118043</td>\n",
              "      <td>4.430531e+04</td>\n",
              "      <td>5671.184741</td>\n",
              "      <td>2.947251e+08</td>\n",
              "      <td>2944.272921</td>\n",
              "    </tr>\n",
              "    <tr>\n",
              "      <th>std</th>\n",
              "      <td>4869.516506</td>\n",
              "      <td>0.0</td>\n",
              "      <td>3.600516</td>\n",
              "      <td>18.749537</td>\n",
              "      <td>0.059522</td>\n",
              "      <td>2.071434e+05</td>\n",
              "      <td>32618.795736</td>\n",
              "      <td>1.867754e+09</td>\n",
              "      <td>44.955142</td>\n",
              "    </tr>\n",
              "    <tr>\n",
              "      <th>min</th>\n",
              "      <td>1.000000</td>\n",
              "      <td>2017.0</td>\n",
              "      <td>1.000000</td>\n",
              "      <td>0.000000</td>\n",
              "      <td>0.050000</td>\n",
              "      <td>0.000000e+00</td>\n",
              "      <td>0.000000</td>\n",
              "      <td>0.000000e+00</td>\n",
              "      <td>2877.820000</td>\n",
              "    </tr>\n",
              "    <tr>\n",
              "      <th>25%</th>\n",
              "      <td>4217.750000</td>\n",
              "      <td>2017.0</td>\n",
              "      <td>2.000000</td>\n",
              "      <td>4.200000</td>\n",
              "      <td>0.060000</td>\n",
              "      <td>1.600000e+01</td>\n",
              "      <td>1.837500</td>\n",
              "      <td>2.655340e+04</td>\n",
              "      <td>2917.090000</td>\n",
              "    </tr>\n",
              "    <tr>\n",
              "      <th>50%</th>\n",
              "      <td>8434.500000</td>\n",
              "      <td>2017.0</td>\n",
              "      <td>5.000000</td>\n",
              "      <td>30.410000</td>\n",
              "      <td>0.080000</td>\n",
              "      <td>2.497640e+03</td>\n",
              "      <td>264.755000</td>\n",
              "      <td>1.074501e+07</td>\n",
              "      <td>2942.290000</td>\n",
              "    </tr>\n",
              "    <tr>\n",
              "      <th>75%</th>\n",
              "      <td>12651.250000</td>\n",
              "      <td>2017.0</td>\n",
              "      <td>9.000000</td>\n",
              "      <td>40.230000</td>\n",
              "      <td>0.200000</td>\n",
              "      <td>1.512200e+04</td>\n",
              "      <td>1560.857500</td>\n",
              "      <td>1.156540e+08</td>\n",
              "      <td>2973.200000</td>\n",
              "    </tr>\n",
              "    <tr>\n",
              "      <th>max</th>\n",
              "      <td>16868.000000</td>\n",
              "      <td>2017.0</td>\n",
              "      <td>12.000000</td>\n",
              "      <td>62.240000</td>\n",
              "      <td>0.200000</td>\n",
              "      <td>3.480914e+06</td>\n",
              "      <td>696182.800000</td>\n",
              "      <td>5.995225e+10</td>\n",
              "      <td>3036.580000</td>\n",
              "    </tr>\n",
              "  </tbody>\n",
              "</table>\n",
              "</div>"
            ],
            "text/plain": [
              "               ITEM      Año           Mes  Precio Hidrocarburo USD  \\\n",
              "count  16868.000000  16868.0  16868.000000             15937.000000   \n",
              "mean    8434.500000   2017.0      5.530828                23.467621   \n",
              "std     4869.516506      0.0      3.600516                18.749537   \n",
              "min        1.000000   2017.0      1.000000                 0.000000   \n",
              "25%     4217.750000   2017.0      2.000000                 4.200000   \n",
              "50%     8434.500000   2017.0      5.000000                30.410000   \n",
              "75%    12651.250000   2017.0      9.000000                40.230000   \n",
              "max    16868.000000   2017.0     12.000000                62.240000   \n",
              "\n",
              "       Porc Regalia  Prod. Gravable Bls/Kpc  Volumen Regalia Bls/Kpc  \\\n",
              "count  16868.000000            1.686800e+04             16868.000000   \n",
              "mean       0.118043            4.430531e+04              5671.184741   \n",
              "std        0.059522            2.071434e+05             32618.795736   \n",
              "min        0.050000            0.000000e+00                 0.000000   \n",
              "25%        0.060000            1.600000e+01                 1.837500   \n",
              "50%        0.080000            2.497640e+03               264.755000   \n",
              "75%        0.200000            1.512200e+04              1560.857500   \n",
              "max        0.200000            3.480914e+06            696182.800000   \n",
              "\n",
              "       Regalias COP  Trm Promedio  \n",
              "count  1.686800e+04  16868.000000  \n",
              "mean   2.947251e+08   2944.272921  \n",
              "std    1.867754e+09     44.955142  \n",
              "min    0.000000e+00   2877.820000  \n",
              "25%    2.655340e+04   2917.090000  \n",
              "50%    1.074501e+07   2942.290000  \n",
              "75%    1.156540e+08   2973.200000  \n",
              "max    5.995225e+10   3036.580000  "
            ]
          },
          "execution_count": 337,
          "metadata": {},
          "output_type": "execute_result"
        }
      ],
      "source": [
        "data.describe()"
      ]
    },
    {
      "cell_type": "markdown",
      "metadata": {
        "id": "YYnjuWXka5GK"
      },
      "source": [
        "## Media"
      ]
    },
    {
      "cell_type": "code",
      "execution_count": null,
      "metadata": {
        "id": "q7i3hVKfa5GK",
        "outputId": "6f75fd45-e20d-4f11-d83d-7deff691916b"
      },
      "outputs": [
        {
          "data": {
            "text/plain": [
              "<bound method NDFrame._add_numeric_operations.<locals>.mean of 0        1.067775e+04\n",
              "1        0.000000e+00\n",
              "2        0.000000e+00\n",
              "3        1.502693e+08\n",
              "4        1.459930e+08\n",
              "             ...     \n",
              "16863    3.848819e+05\n",
              "16864    0.000000e+00\n",
              "16865    0.000000e+00\n",
              "16866    0.000000e+00\n",
              "16867    0.000000e+00\n",
              "Name: Regalias COP, Length: 16868, dtype: float64>"
            ]
          },
          "execution_count": 338,
          "metadata": {},
          "output_type": "execute_result"
        }
      ],
      "source": [
        "data['Regalias COP'].mean"
      ]
    },
    {
      "cell_type": "code",
      "execution_count": null,
      "metadata": {
        "id": "t6bei2h9a5GL",
        "outputId": "f8b3238a-3f14-4fd8-c780-cfe38b05bef4"
      },
      "outputs": [
        {
          "data": {
            "text/plain": [
              "<bound method NDFrame._add_numeric_operations.<locals>.mean of 0        0.20\n",
              "1        0.06\n",
              "2        0.20\n",
              "3        0.20\n",
              "4        0.06\n",
              "         ... \n",
              "16863    0.08\n",
              "16864    0.06\n",
              "16865    0.08\n",
              "16866    0.08\n",
              "16867    0.06\n",
              "Name: Porc Regalia, Length: 16868, dtype: float64>"
            ]
          },
          "execution_count": 339,
          "metadata": {},
          "output_type": "execute_result"
        }
      ],
      "source": [
        "data['Porc Regalia'].mean"
      ]
    },
    {
      "cell_type": "code",
      "execution_count": null,
      "metadata": {
        "id": "v4An5Jata5GL",
        "outputId": "7a5ef8c1-b022-4d84-ef69-40de7e4ef164"
      },
      "outputs": [
        {
          "data": {
            "text/plain": [
              "<bound method NDFrame._add_numeric_operations.<locals>.mean of 0         6.05\n",
              "1        37.63\n",
              "2         3.06\n",
              "3        30.32\n",
              "4        28.52\n",
              "         ...  \n",
              "16863    48.48\n",
              "16864      NaN\n",
              "16865    36.96\n",
              "16866    36.57\n",
              "16867      NaN\n",
              "Name: Precio Hidrocarburo USD, Length: 16868, dtype: float64>"
            ]
          },
          "execution_count": 340,
          "metadata": {},
          "output_type": "execute_result"
        }
      ],
      "source": [
        "data['Precio Hidrocarburo USD'].mean"
      ]
    },
    {
      "cell_type": "markdown",
      "metadata": {
        "id": "NDkiCP5Ka5GL"
      },
      "source": [
        "## Mediana"
      ]
    },
    {
      "cell_type": "markdown",
      "metadata": {
        "id": "eoGIJL01a5GM"
      },
      "source": [
        "Se procede a usar el método .median para obtener la media de las tres columnas seleccionadas anteriormente"
      ]
    },
    {
      "cell_type": "code",
      "execution_count": null,
      "metadata": {
        "id": "_XVtSvZ6a5GM",
        "outputId": "1aba5a2b-1d7e-4b8a-b3cc-f22be3a479ea"
      },
      "outputs": [
        {
          "data": {
            "text/plain": [
              "<bound method NDFrame._add_numeric_operations.<locals>.median of 0        1.067775e+04\n",
              "1        0.000000e+00\n",
              "2        0.000000e+00\n",
              "3        1.502693e+08\n",
              "4        1.459930e+08\n",
              "             ...     \n",
              "16863    3.848819e+05\n",
              "16864    0.000000e+00\n",
              "16865    0.000000e+00\n",
              "16866    0.000000e+00\n",
              "16867    0.000000e+00\n",
              "Name: Regalias COP, Length: 16868, dtype: float64>"
            ]
          },
          "execution_count": 341,
          "metadata": {},
          "output_type": "execute_result"
        }
      ],
      "source": [
        "data['Regalias COP'].median"
      ]
    },
    {
      "cell_type": "code",
      "execution_count": null,
      "metadata": {
        "id": "kmpR9VgUa5GM",
        "outputId": "f679011f-581e-41bc-a647-68d1c83f0619"
      },
      "outputs": [
        {
          "data": {
            "text/plain": [
              "<bound method NDFrame._add_numeric_operations.<locals>.median of 0        0.20\n",
              "1        0.06\n",
              "2        0.20\n",
              "3        0.20\n",
              "4        0.06\n",
              "         ... \n",
              "16863    0.08\n",
              "16864    0.06\n",
              "16865    0.08\n",
              "16866    0.08\n",
              "16867    0.06\n",
              "Name: Porc Regalia, Length: 16868, dtype: float64>"
            ]
          },
          "execution_count": 342,
          "metadata": {},
          "output_type": "execute_result"
        }
      ],
      "source": [
        "data['Porc Regalia'].median"
      ]
    },
    {
      "cell_type": "code",
      "execution_count": null,
      "metadata": {
        "id": "7fej_Cboa5GN",
        "outputId": "ce15bcc2-c539-4300-ece1-5b74bf27eabe"
      },
      "outputs": [
        {
          "data": {
            "text/plain": [
              "<bound method NDFrame._add_numeric_operations.<locals>.median of 0         6.05\n",
              "1        37.63\n",
              "2         3.06\n",
              "3        30.32\n",
              "4        28.52\n",
              "         ...  \n",
              "16863    48.48\n",
              "16864      NaN\n",
              "16865    36.96\n",
              "16866    36.57\n",
              "16867      NaN\n",
              "Name: Precio Hidrocarburo USD, Length: 16868, dtype: float64>"
            ]
          },
          "execution_count": 343,
          "metadata": {},
          "output_type": "execute_result"
        }
      ],
      "source": [
        "data['Precio Hidrocarburo USD'].median"
      ]
    },
    {
      "cell_type": "markdown",
      "metadata": {
        "id": "ar5PkLVEa5GN"
      },
      "source": [
        "## Maximo"
      ]
    },
    {
      "cell_type": "markdown",
      "metadata": {
        "id": "8edWz_A_a5GN"
      },
      "source": [
        "Con el método .max() podemos obtener los valores máximos de cada columna"
      ]
    },
    {
      "cell_type": "code",
      "execution_count": null,
      "metadata": {
        "id": "0eDdMVnia5GN",
        "outputId": "437407e5-3963-477b-cd3e-304d928d5970"
      },
      "outputs": [
        {
          "data": {
            "text/plain": [
              "59952248926.87"
            ]
          },
          "execution_count": 344,
          "metadata": {},
          "output_type": "execute_result"
        }
      ],
      "source": [
        "data['Regalias COP'].max()"
      ]
    },
    {
      "cell_type": "code",
      "execution_count": null,
      "metadata": {
        "id": "yjmpdLnla5GO",
        "outputId": "223bfe54-56a8-4979-9813-e12e6cb376af"
      },
      "outputs": [
        {
          "data": {
            "text/plain": [
              "0.2"
            ]
          },
          "execution_count": 345,
          "metadata": {},
          "output_type": "execute_result"
        }
      ],
      "source": [
        "data['Porc Regalia'].max()"
      ]
    },
    {
      "cell_type": "code",
      "execution_count": null,
      "metadata": {
        "id": "IUsIitq5a5GO",
        "outputId": "00efaa50-82a8-460e-8ec8-67fb2c51f8f2"
      },
      "outputs": [
        {
          "data": {
            "text/plain": [
              "62.24"
            ]
          },
          "execution_count": 346,
          "metadata": {},
          "output_type": "execute_result"
        }
      ],
      "source": [
        "data['Precio Hidrocarburo USD'].max()"
      ]
    },
    {
      "cell_type": "markdown",
      "metadata": {
        "id": "6ychwkf-a5GO"
      },
      "source": [
        "## Mínimo"
      ]
    },
    {
      "cell_type": "markdown",
      "metadata": {
        "id": "8zvEYHh2a5GP"
      },
      "source": [
        "Con el método .max() podemos obtener los valores mínimos de cada columna"
      ]
    },
    {
      "cell_type": "code",
      "execution_count": null,
      "metadata": {
        "id": "EkQK97qIa5GP",
        "outputId": "4c1746a7-b25d-4dfd-ff69-c3dcd1fd7712"
      },
      "outputs": [
        {
          "data": {
            "text/plain": [
              "0.0"
            ]
          },
          "execution_count": 347,
          "metadata": {},
          "output_type": "execute_result"
        }
      ],
      "source": [
        "data['Regalias COP'].min()"
      ]
    },
    {
      "cell_type": "code",
      "execution_count": null,
      "metadata": {
        "id": "oE7NsMeda5GP",
        "outputId": "94cfd3c5-acd4-4652-9b52-e214d0df7df8"
      },
      "outputs": [
        {
          "data": {
            "text/plain": [
              "0.05"
            ]
          },
          "execution_count": 348,
          "metadata": {},
          "output_type": "execute_result"
        }
      ],
      "source": [
        "data['Porc Regalia'].min()"
      ]
    },
    {
      "cell_type": "code",
      "execution_count": null,
      "metadata": {
        "id": "tSQPSdoia5GQ",
        "outputId": "c7e159e8-74b7-4b61-b444-a04cc4752448"
      },
      "outputs": [
        {
          "data": {
            "text/plain": [
              "0.0"
            ]
          },
          "execution_count": 349,
          "metadata": {},
          "output_type": "execute_result"
        }
      ],
      "source": [
        "data['Precio Hidrocarburo USD'].min()"
      ]
    },
    {
      "cell_type": "markdown",
      "metadata": {
        "id": "Y8a6vHpVa5GQ"
      },
      "source": [
        "## Moda"
      ]
    },
    {
      "cell_type": "markdown",
      "metadata": {
        "id": "ugO9e_2Qa5GQ"
      },
      "source": [
        "Con la moda, podemos sacar el valor que se repite con mayor frecuencia en las columnas"
      ]
    },
    {
      "cell_type": "code",
      "execution_count": null,
      "metadata": {
        "id": "FXOcGrBsa5GR",
        "outputId": "e5bae319-823a-47ca-8eb0-75c826f487b2"
      },
      "outputs": [
        {
          "data": {
            "text/plain": [
              "0    0.0\n",
              "Name: Regalias COP, dtype: float64"
            ]
          },
          "execution_count": 350,
          "metadata": {},
          "output_type": "execute_result"
        }
      ],
      "source": [
        "data['Regalias COP'].mode()"
      ]
    },
    {
      "cell_type": "code",
      "execution_count": null,
      "metadata": {
        "id": "CX6uDQTka5GR",
        "outputId": "c9c1ab63-a406-4935-c5da-0316c5f0fe2c"
      },
      "outputs": [
        {
          "data": {
            "text/plain": [
              "0    0.2\n",
              "Name: Porc Regalia, dtype: float64"
            ]
          },
          "execution_count": 351,
          "metadata": {},
          "output_type": "execute_result"
        }
      ],
      "source": [
        "data['Porc Regalia'].mode()"
      ]
    },
    {
      "cell_type": "code",
      "execution_count": null,
      "metadata": {
        "id": "Kna9Zhiea5GR",
        "outputId": "5a470c53-1f92-4469-a279-6edb6f4d603b"
      },
      "outputs": [
        {
          "data": {
            "text/plain": [
              "0    0.0\n",
              "Name: Precio Hidrocarburo USD, dtype: float64"
            ]
          },
          "execution_count": 352,
          "metadata": {},
          "output_type": "execute_result"
        }
      ],
      "source": [
        "data['Precio Hidrocarburo USD'].mode()"
      ]
    },
    {
      "cell_type": "markdown",
      "metadata": {
        "id": "EOJQMY45a5GR"
      },
      "source": [
        "## Histogramas"
      ]
    },
    {
      "cell_type": "markdown",
      "metadata": {
        "id": "YtFoReGRa5GS"
      },
      "source": [
        "> Un histograma es un gráfico que usa barras para simbolizar cómo se distribuye un conjunto de datos. También sirve para ver rápidamente cómo se ha comportado una muestra basada en una variable numérica o cuantitativa. Por ejemplo, cómo varían las edades en un grupo de artistas de una banda sinfónica."
      ]
    },
    {
      "cell_type": "markdown",
      "metadata": {
        "id": "8zxupV2ja5GS"
      },
      "source": [
        "#### En el siguiente histograma (Regalías COP), tenemos una representacion del porcentaje de las regalías, donde la parte horizontal son los porcentajes, y la parte vertical es la cantidad que corresponde a cada porcentaje."
      ]
    },
    {
      "cell_type": "code",
      "execution_count": null,
      "metadata": {
        "id": "ruoA0gLIa5GS",
        "outputId": "14a4d404-e9fa-4104-caa5-010a0a1d0d23"
      },
      "outputs": [
        {
          "data": {
            "image/png": "[encoded data removed]",
            "text/plain": [
              "<Figure size 640x480 with 1 Axes>"
            ]
          },
          "metadata": {},
          "output_type": "display_data"
        }
      ],
      "source": [
        "plt.hist(x=data['Regalias COP'], color= '#F2AB6D', rwidth=0.95)\n",
        "plt.xlabel(\"Cantidad\")\n",
        "plt.ylabel(\"Frecuencia\")\n",
        "plt.title(\"Regalías COP\")\n",
        "plt.show()"
      ]
    },
    {
      "cell_type": "markdown",
      "metadata": {
        "id": "UdCeH5uta5GS"
      },
      "source": [
        "#### En el siguiente histograma (Porcentaje de regalías), muestra el porcentaje de las regalías, donde la parte horizontal son los porcentajes, y la parte vertical es la frecuencia"
      ]
    },
    {
      "cell_type": "code",
      "execution_count": null,
      "metadata": {
        "id": "cePiMNDGa5GT",
        "outputId": "1c4c5e33-5aff-435b-9372-a08c9dd86e43"
      },
      "outputs": [
        {
          "data": {
            "image/png": "[encoded data removed]",
            "text/plain": [
              "<Figure size 640x480 with 1 Axes>"
            ]
          },
          "metadata": {},
          "output_type": "display_data"
        }
      ],
      "source": [
        "plt.hist(x=data['Porc Regalia'], color= '#F2AB6D', rwidth=0.7)\n",
        "plt.xlabel(\"Porcentajes\")\n",
        "plt.ylabel(\"Frecuencia\")\n",
        "plt.title(\"Porcentaje de regalías\")\n",
        "plt.show()"
      ]
    },
    {
      "cell_type": "markdown",
      "metadata": {
        "id": "-Kq06bQsa5GT"
      },
      "source": [
        "#### En el siguiente histograma (Hidrocarburos), muestra la representacion del precio del hidrocarburo en dolares, donde la parte horizontal son los dólares, y la parte vertical es la frecuencia"
      ]
    },
    {
      "cell_type": "code",
      "execution_count": null,
      "metadata": {
        "id": "yjR6ruuxa5GT",
        "outputId": "4bdf91dc-c20a-40ec-ef50-2273385bfb1e"
      },
      "outputs": [
        {
          "data": {
            "image/png": "[encoded data removed]",
            "text/plain": [
              "<Figure size 640x480 with 1 Axes>"
            ]
          },
          "metadata": {},
          "output_type": "display_data"
        }
      ],
      "source": [
        "plt.hist(x=data['Precio Hidrocarburo USD'], color= '#F2AB6D', rwidth=0.95)\n",
        "plt.xlabel(\"Precio en USD\")\n",
        "plt.ylabel(\"Frecuencia\")\n",
        "plt.title(\"Hidrocarburo\")\n",
        "plt.show()"
      ]
    },
    {
      "cell_type": "markdown",
      "metadata": {
        "id": "WaX3BpNra5GT"
      },
      "source": [
        "## Caja de bigotes"
      ]
    },
    {
      "cell_type": "code",
      "execution_count": null,
      "metadata": {
        "id": "3FmvlCO7a5GU",
        "outputId": "a8fe64cd-8552-40f7-ce4a-e6ee767543d9"
      },
      "outputs": [
        {
          "data": {
            "image/png": "[encoded data removed]",
            "text/plain": [
              "<Figure size 640x480 with 1 Axes>"
            ]
          },
          "metadata": {},
          "output_type": "display_data"
        }
      ],
      "source": [
        "plt.boxplot((data['Porc Regalia']))\n",
        "plt.show()"
      ]
    },
    {
      "cell_type": "markdown",
      "metadata": {
        "id": "0sL9KDrma5GU"
      },
      "source": [
        "#### En esta caja de bigotes que es la representacion de unos datos numericos a traves de sus cuartiles, aqui podemos observar que en el porcentaje de regalia no hubo ningun dato atípico es decir, todos los datos estan dentro del porcentaje que se maneja."
      ]
    },
    {
      "cell_type": "code",
      "execution_count": null,
      "metadata": {
        "id": "d5-Do_n3a5GU",
        "outputId": "2b0512f5-1fe4-468e-915c-8dfa95b76988"
      },
      "outputs": [
        {
          "data": {
            "image/png": "[encoded data removed]",
            "text/plain": [
              "<Figure size 640x480 with 1 Axes>"
            ]
          },
          "metadata": {},
          "output_type": "display_data"
        }
      ],
      "source": [
        "plt.boxplot((data['Regalias COP']))\n",
        "plt.show()"
      ]
    },
    {
      "cell_type": "markdown",
      "metadata": {
        "id": "kGEaTCwEa5GV"
      },
      "source": [
        "#### En la caja de bigotes para el volumen de Regalias COP podemos observar que una gran parte de sus datos son atipicos, es decir que se sobrepasan de la medida o del porcentaje que se habia tenido en cuenta y por eso se salen del porcentaje."
      ]
    },
    {
      "cell_type": "code",
      "execution_count": null,
      "metadata": {
        "id": "YYb8f7tha5GV",
        "outputId": "47fd9e1a-ba92-4164-fe83-301a7dce100f"
      },
      "outputs": [
        {
          "data": {
            "image/png": "[encoded data removed]",
            "text/plain": [
              "<Figure size 640x480 with 1 Axes>"
            ]
          },
          "metadata": {},
          "output_type": "display_data"
        }
      ],
      "source": [
        "plt.boxplot((data['Precio Hidrocarburo USD']))\n",
        "plt.show()"
      ]
    },
    {
      "cell_type": "markdown",
      "metadata": {
        "id": "hLyJukcXa5GV"
      },
      "source": [
        "# Variables cualitativas"
      ]
    },
    {
      "cell_type": "markdown",
      "metadata": {
        "id": "VY71jppla5GV"
      },
      "source": [
        "### Frecuencia absoluta y la frecuencia relativa"
      ]
    },
    {
      "cell_type": "markdown",
      "metadata": {
        "id": "6W4CDh_Da5GV"
      },
      "source": [
        "> La frecuencia absoluta es el número de veces que se repite algo y la frecuencia relativa es la proporción que representa la frecuencia absoluta en relación con el total."
      ]
    },
    {
      "cell_type": "markdown",
      "metadata": {
        "id": "FyJLQ7i7a5GV"
      },
      "source": [
        "## Frecuencia absoluta"
      ]
    },
    {
      "cell_type": "code",
      "execution_count": null,
      "metadata": {
        "id": "NiyXYJx1a5GW",
        "outputId": "27768c18-f3f8-413f-c1b9-51375c9904ab"
      },
      "outputs": [
        {
          "data": {
            "text/plain": [
              "CASANARE              6460\n",
              "META                  2438\n",
              "HUILA                 1608\n",
              "SANTANDER             1146\n",
              "ARAUCA                1123\n",
              "TOLIMA                 847\n",
              "PUTUMAYO               711\n",
              "CESAR                  565\n",
              "BOYACA                 307\n",
              "ANTIOQUIA              279\n",
              "NORTE DE SANTANDER     244\n",
              "SUCRE                  231\n",
              "BOLIVAR                195\n",
              "MAGDALENA              153\n",
              "GUAJIRA                153\n",
              "CORDOBA                112\n",
              "CUNDINAMARCA           111\n",
              "CAUCA                   85\n",
              "DEPARTAMENTO NN         35\n",
              "ATLANTICO               33\n",
              "NARIÑO                  27\n",
              "VICHADA                  4\n",
              "CAQUETA                  1\n",
              "Name: Departamento, dtype: int64"
            ]
          },
          "execution_count": 359,
          "metadata": {},
          "output_type": "execute_result"
        }
      ],
      "source": [
        "f_absoluta=pd.value_counts(data['Departamento'])\n",
        "f_absoluta"
      ]
    },
    {
      "cell_type": "code",
      "execution_count": null,
      "metadata": {
        "id": "grXel8xoa5GW",
        "outputId": "8f7855f8-50ad-482c-fe8c-7ccf68d8ddcf"
      },
      "outputs": [
        {
          "data": {
            "text/plain": [
              "TAURAMENA                 1269\n",
              "AGUAZUL                   1178\n",
              "OROCUE                     973\n",
              "YOPAL                      882\n",
              "ARAUQUITA                  683\n",
              "                          ... \n",
              "FONSECA                      3\n",
              "VILLANUEVA                   3\n",
              "FUENTE DE ORO                3\n",
              "PUERTO LLERAS                2\n",
              "SAN VICENTE DEL CAGUAN       1\n",
              "Name: Municipio, Length: 122, dtype: int64"
            ]
          },
          "execution_count": 360,
          "metadata": {},
          "output_type": "execute_result"
        }
      ],
      "source": [
        "f_absoluta=pd.value_counts(data['Municipio'])\n",
        "f_absoluta"
      ]
    },
    {
      "cell_type": "code",
      "execution_count": null,
      "metadata": {
        "id": "NQ4Y-N-9a5GW",
        "outputId": "0aab3442-7bbf-43da-8b81-ddd244e653e5"
      },
      "outputs": [
        {
          "data": {
            "text/plain": [
              "ECOP-SDLA-OP-DIRECTA          1340\n",
              "PIJAO POTRERILLO               884\n",
              "APIAY                          617\n",
              "CRAVO NORTE                    459\n",
              "CUBARRAL                       442\n",
              "                              ... \n",
              "ECOP OP DIRECTA D.SUR            2\n",
              "E&P SABANERO METAPETROLEUM       1\n",
              "E&P DURILLO                      1\n",
              "LLANOS 66                        1\n",
              "LLANOS 33                        1\n",
              "Name: Contrato, Length: 210, dtype: int64"
            ]
          },
          "execution_count": 361,
          "metadata": {},
          "output_type": "execute_result"
        }
      ],
      "source": [
        "f_absoluta=pd.value_counts(data['Contrato'])\n",
        "f_absoluta"
      ]
    },
    {
      "cell_type": "markdown",
      "metadata": {
        "id": "3ZuHRl-Ba5GW"
      },
      "source": [
        "## Frecuencia relativa"
      ]
    },
    {
      "cell_type": "code",
      "execution_count": null,
      "metadata": {
        "id": "UEtS8KNFa5GW",
        "outputId": "e5842c21-520d-42c6-f68f-2fe7deb430a2"
      },
      "outputs": [
        {
          "data": {
            "text/plain": [
              "CASANARE              38.297368\n",
              "META                  14.453403\n",
              "HUILA                  9.532843\n",
              "SANTANDER              6.793929\n",
              "ARAUCA                 6.657576\n",
              "TOLIMA                 5.021342\n",
              "PUTUMAYO               4.215082\n",
              "CESAR                  3.349538\n",
              "BOYACA                 1.820014\n",
              "ANTIOQUIA              1.654019\n",
              "NORTE DE SANTANDER     1.446526\n",
              "SUCRE                  1.369457\n",
              "BOLIVAR                1.156035\n",
              "MAGDALENA              0.907043\n",
              "GUAJIRA                0.907043\n",
              "CORDOBA                0.663979\n",
              "CUNDINAMARCA           0.658051\n",
              "CAUCA                  0.503913\n",
              "DEPARTAMENTO NN        0.207493\n",
              "ATLANTICO              0.195637\n",
              "NARIÑO                 0.160066\n",
              "VICHADA                0.023714\n",
              "CAQUETA                0.005928\n",
              "Name: Departamento, dtype: float64"
            ]
          },
          "execution_count": 362,
          "metadata": {},
          "output_type": "execute_result"
        }
      ],
      "source": [
        "f_relativa = 100 * data['Departamento'].value_counts() / len(data['Departamento'])\n",
        "f_relativa"
      ]
    },
    {
      "cell_type": "code",
      "execution_count": null,
      "metadata": {
        "id": "As1eFGQBa5GX",
        "outputId": "4525615c-6f97-4075-8a37-ab81c2fc9227"
      },
      "outputs": [
        {
          "data": {
            "text/plain": [
              "TAURAMENA                 7.523121\n",
              "AGUAZUL                   6.983638\n",
              "OROCUE                    5.768319\n",
              "YOPAL                     5.228836\n",
              "ARAUQUITA                 4.049087\n",
              "                            ...   \n",
              "FONSECA                   0.017785\n",
              "VILLANUEVA                0.017785\n",
              "FUENTE DE ORO             0.017785\n",
              "PUERTO LLERAS             0.011857\n",
              "SAN VICENTE DEL CAGUAN    0.005928\n",
              "Name: Municipio, Length: 122, dtype: float64"
            ]
          },
          "execution_count": 363,
          "metadata": {},
          "output_type": "execute_result"
        }
      ],
      "source": [
        "f_relativa = 100 * data['Municipio'].value_counts() / len(data['Municipio'])\n",
        "f_relativa"
      ]
    },
    {
      "cell_type": "code",
      "execution_count": null,
      "metadata": {
        "id": "O3gGAmzla5GX",
        "outputId": "2d2e4a2c-a903-4f8d-9140-62d49b397a75"
      },
      "outputs": [
        {
          "data": {
            "text/plain": [
              "ECOP-SDLA-OP-DIRECTA          7.944036\n",
              "PIJAO POTRERILLO              5.240692\n",
              "APIAY                         3.657814\n",
              "CRAVO NORTE                   2.721129\n",
              "CUBARRAL                      2.620346\n",
              "                                ...   \n",
              "ECOP OP DIRECTA D.SUR         0.011857\n",
              "E&P SABANERO METAPETROLEUM    0.005928\n",
              "E&P DURILLO                   0.005928\n",
              "LLANOS 66                     0.005928\n",
              "LLANOS 33                     0.005928\n",
              "Name: Contrato, Length: 210, dtype: float64"
            ]
          },
          "execution_count": 364,
          "metadata": {},
          "output_type": "execute_result"
        }
      ],
      "source": [
        "f_relativa = 100 * data['Contrato'].value_counts() / len(data['Contrato'])\n",
        "f_relativa"
      ]
    },
    {
      "cell_type": "markdown",
      "metadata": {
        "id": "7aK2PWB2a5GX"
      },
      "source": [
        "# Graficos de barras y torta para cada variable cualitativa"
      ]
    },
    {
      "cell_type": "markdown",
      "metadata": {
        "id": "7VPPIVoca5GX"
      },
      "source": [
        "### Al tener una gran cantidad de filas en la data, se mostrarán solamente los 5 primeros con mayor aparición"
      ]
    },
    {
      "cell_type": "markdown",
      "metadata": {
        "id": "xLOCnGVDa5GX"
      },
      "source": [
        "# Gráfico de barras"
      ]
    },
    {
      "cell_type": "code",
      "execution_count": null,
      "metadata": {
        "id": "C5PPY5xpa5GX",
        "outputId": "e159421a-ae25-4cdf-9527-ec1571f6d3cf"
      },
      "outputs": [
        {
          "data": {
            "image/png": "[encoded data removed]",
            "text/plain": [
              "<Figure size 640x480 with 1 Axes>"
            ]
          },
          "metadata": {},
          "output_type": "display_data"
        }
      ],
      "source": [
        "# Contar las apariciones de los valores en la columna \"Departamentos\"\n",
        "con = data['Departamento'].value_counts()\n",
        "\n",
        "# Seleccionar los 5 departamentos con más apariciones\n",
        "top_departamentos = con.nlargest(5)\n",
        "\n",
        "# Filtrar el DataFrame para incluir solo las filas con las departamentos más comunes\n",
        "data_top_departamentos = data[data['Departamento'].isin(top_departamentos.index)]\n",
        "\n",
        "# Crear un gráfico de barras que muestra la cantidad de personas en cada departamento\n",
        "plt.bar(top_departamentos.index, top_departamentos.values)\n",
        "plt.title('Departamentos')\n",
        "plt.xlabel('Departamentos')\n",
        "plt.ylabel('Número de apariciones')\n",
        "plt.show()"
      ]
    },
    {
      "cell_type": "code",
      "execution_count": null,
      "metadata": {
        "id": "8izMVbb2a5GY",
        "outputId": "a920d639-1697-4bd9-aed3-da653d04574e"
      },
      "outputs": [
        {
          "data": {
            "image/png": "[encoded data removed]",
            "text/plain": [
              "<Figure size 640x480 with 1 Axes>"
            ]
          },
          "metadata": {},
          "output_type": "display_data"
        }
      ],
      "source": [
        "# Contar las apariciones de los valores en la columna \"Municipio\"\n",
        "con = data['Municipio'].value_counts()\n",
        "\n",
        "# Seleccionar los 5 municipios con más apariciones\n",
        "top_municipio = con.nlargest(5)\n",
        "\n",
        "# Filtrar el DataFrame para incluir solo las filas con las municipio más comunes\n",
        "data_top_municipio = data[data['Municipio'].isin(top_municipio.index)]\n",
        "\n",
        "# Crear un gráfico de barras que muestra la cantidad de personas en cada ciudad\n",
        "plt.bar(top_municipio.index, top_municipio.values)\n",
        "plt.title('Municipios')\n",
        "plt.xlabel('Municipios')\n",
        "plt.ylabel('Número de apariciones')\n",
        "plt.show()"
      ]
    },
    {
      "cell_type": "code",
      "execution_count": null,
      "metadata": {
        "id": "QvkKZ0Uda5GY",
        "outputId": "a2436252-4f2d-4d78-98f4-c77732eab73f"
      },
      "outputs": [
        {
          "data": {
            "image/png": "[encoded data removed]",
            "text/plain": [
              "<Figure size 640x480 with 1 Axes>"
            ]
          },
          "metadata": {},
          "output_type": "display_data"
        }
      ],
      "source": [
        "# Contar las apariciones de los valores en la columna \"Contrato\"\n",
        "counts = data['Contrato'].value_counts()\n",
        "\n",
        "# Seleccionar las 5 contratos con más apariciones\n",
        "top_contratos = counts.nlargest(5)\n",
        "\n",
        "# Filtrar el DataFrame para incluir solo las filas con los contratos más comunes\n",
        "data_top_contratos= data[data['Contrato'].isin(top_contratos.index)]\n",
        "\n",
        "plt.bar(top_contratos.index, top_contratos.values)\n",
        "plt.title('Contratos')\n",
        "plt.xlabel('Contratos')\n",
        "plt.ylabel('Número de apariciones')\n",
        "plt.show()\n",
        "\n"
      ]
    },
    {
      "cell_type": "markdown",
      "metadata": {
        "id": "TxINdG9ea5GY"
      },
      "source": [
        "## Gráficos de torta"
      ]
    },
    {
      "cell_type": "code",
      "execution_count": null,
      "metadata": {
        "id": "EpvMJQRGa5GY",
        "outputId": "abcc4574-2a9d-4eb7-dc6d-2c06c6a2b0a5"
      },
      "outputs": [
        {
          "data": {
            "image/png": "[encoded data removed]",
            "text/plain": [
              "<Figure size 640x480 with 1 Axes>"
            ]
          },
          "metadata": {},
          "output_type": "display_data"
        }
      ],
      "source": [
        "plt.pie(top_departamentos.values, labels=top_departamentos.index, autopct='%1.1f%%')\n",
        "plt.title('Top 5 departamentos')\n",
        "plt.show()"
      ]
    },
    {
      "cell_type": "code",
      "execution_count": null,
      "metadata": {
        "id": "q-kfKDvVa5GZ",
        "outputId": "69986a79-cfed-47e1-8ddf-a1c0e4bb4686"
      },
      "outputs": [
        {
          "data": {
            "image/png": "[encoded data removed]",
            "text/plain": [
              "<Figure size 640x480 with 1 Axes>"
            ]
          },
          "metadata": {},
          "output_type": "display_data"
        }
      ],
      "source": [
        "plt.pie(top_municipio.values, labels=top_municipio.index, autopct='%1.1f%%')\n",
        "plt.title('Top 5 municipios')\n",
        "plt.show()"
      ]
    },
    {
      "cell_type": "code",
      "execution_count": null,
      "metadata": {
        "id": "v75sMCb0a5GZ",
        "outputId": "a9a3467d-105d-4eed-be9f-3ef9be1fbab2"
      },
      "outputs": [
        {
          "data": {
            "image/png": "[encoded data removed]",
            "text/plain": [
              "<Figure size 640x480 with 1 Axes>"
            ]
          },
          "metadata": {},
          "output_type": "display_data"
        }
      ],
      "source": [
        "plt.pie(top_contratos.values, labels=top_contratos.index, autopct='%1.1f%%')\n",
        "plt.title('Top 5 contratos')\n",
        "plt.show()"
      ]
    },
    {
      "cell_type": "markdown",
      "metadata": {
        "id": "fE3xw8Mia5GZ"
      },
      "source": [
        "# Conclusión"
      ]
    },
    {
      "cell_type": "markdown",
      "metadata": {
        "id": "PEll_Cbha5GZ"
      },
      "source": [
        "Se puede concluir que el departamento de CASANARE, es el departamento con mayor explotación de recursos naturales siendo a su vez, el municipio de TAURAMENA, el de mayor explotación y el contrato con mayor aparición fue el de ECOP-SDLA-OP-DIRECTA. A su vez, se tuvo que la mayor regalía (en pesos colombianos) fue de 59.952.248.926,87 COP"
      ]
    }
  ],
  "metadata": {
    "kernelspec": {
      "display_name": "Python 3",
      "language": "python",
      "name": "python3"
    },
    "language_info": {
      "codemirror_mode": {
        "name": "ipython",
        "version": 3
      },
      "file_extension": ".py",
      "mimetype": "text/x-python",
      "name": "python",
      "nbconvert_exporter": "python",
      "pygments_lexer": "ipython3",
      "version": "3.11.2"
    },
    "orig_nbformat": 4,
    "vscode": {
      "interpreter": {
        "hash": "0fe026f032e4f6e5a89eca7c081853d8cbadc8417bdbdeacf0fc158fe277826c"
      }
    },
    "colab": {
      "provenance": []
    }
  },
  "nbformat": 4,
  "nbformat_minor": 0
}